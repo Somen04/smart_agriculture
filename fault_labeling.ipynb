{
  "nbformat": 4,
  "nbformat_minor": 0,
  "metadata": {
    "colab": {
      "provenance": []
    },
    "kernelspec": {
      "name": "python3",
      "display_name": "Python 3"
    },
    "language_info": {
      "name": "python"
    }
  },
  "cells": [
    {
      "cell_type": "code",
      "execution_count": 1,
      "metadata": {
        "colab": {
          "base_uri": "https://localhost:8080/"
        },
        "id": "jX_fzQXeOn1D",
        "outputId": "6afe7035-709f-4331-e2da-425ba4dc6e6c"
      },
      "outputs": [
        {
          "output_type": "stream",
          "name": "stdout",
          "text": [
            "Labeled dataset saved as 'faulty_crop_dataset_labeled.csv'\n"
          ]
        }
      ],
      "source": [
        "import pandas as pd\n",
        "\n",
        "df = pd.read_csv(\"faulty_crop_dataset.csv\")\n",
        "\n",
        "# Define a function to label\n",
        "def label_row(row):\n",
        "    if (\n",
        "        row['pH'] < 5.5 or row['pH'] > 8.5 or\n",
        "        row['Nitrogen'] > 150 or\n",
        "        row['Phosphorus'] < 20 or\n",
        "        row['Potassium'] < 50 or\n",
        "        row['Rainfall'] > 1500 or\n",
        "        row['Temperature'] < 10 or row['Temperature'] > 40\n",
        "    ):\n",
        "        return 1  # Faulty\n",
        "    else:\n",
        "        return 0  # Normal\n",
        "\n",
        "# Applying the labeling function to the Data\n",
        "df['Label'] = df.apply(label_row, axis=1)\n",
        "\n",
        "df['Status'] = df['Label'].map({0: 'Normal', 1: 'Faulty'})\n",
        "\n",
        "df.to_csv(\"faulty_crop_dataset_labeled.csv\", index=False)\n",
        "\n",
        "print(\"Labeled dataset saved as 'faulty_crop_dataset_labeled.csv'\")"
      ]
    }
  ]
}